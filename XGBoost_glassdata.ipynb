{
  "nbformat": 4,
  "nbformat_minor": 0,
  "metadata": {
    "colab": {
      "provenance": [],
      "collapsed_sections": [],
      "authorship_tag": "ABX9TyNA68Uuq64c/gj+V/7hzMYy",
      "include_colab_link": true
    },
    "kernelspec": {
      "name": "python3",
      "display_name": "Python 3"
    },
    "language_info": {
      "name": "python"
    }
  },
  "cells": [
    {
      "cell_type": "markdown",
      "metadata": {
        "id": "view-in-github",
        "colab_type": "text"
      },
      "source": [
        "<a href=\"https://colab.research.google.com/github/Chirag314/XGBoost-glassdata/blob/main/XGBoost_glassdata.ipynb\" target=\"_parent\"><img src=\"https://colab.research.google.com/assets/colab-badge.svg\" alt=\"Open In Colab\"/></a>"
      ]
    },
    {
      "cell_type": "markdown",
      "source": [
        "###This notebook is made from exercises from book Ensemble Machine Learning Cookbook."
      ],
      "metadata": {
        "id": "de3ggC8Kv_99"
      }
    },
    {
      "cell_type": "markdown",
      "source": [
        "XGBoost stands for extreme gradient boosting. It is a variant of the gradient boosting machine that aims to improve performance and speed. The XGBoost library in Python implements the gradient boosting decision tree algorithm. The name gradient boosting comes from its us of the gradient descent algorithm to minimize loss when adding new models. XGBoost can handle both regression and classification tasks."
      ],
      "metadata": {
        "id": "jIDLriSFoPIm"
      }
    },
    {
      "cell_type": "code",
      "source": [
        "!pip install xgboost"
      ],
      "metadata": {
        "colab": {
          "base_uri": "https://localhost:8080/"
        },
        "id": "0ACH9aj50uRm",
        "outputId": "8f021008-ecb8-4de6-c072-a167d37c9a50"
      },
      "execution_count": 1,
      "outputs": [
        {
          "output_type": "stream",
          "name": "stdout",
          "text": [
            "Looking in indexes: https://pypi.org/simple, https://us-python.pkg.dev/colab-wheels/public/simple/\n",
            "Requirement already satisfied: xgboost in /usr/local/lib/python3.7/dist-packages (0.90)\n",
            "Requirement already satisfied: numpy in /usr/local/lib/python3.7/dist-packages (from xgboost) (1.21.6)\n",
            "Requirement already satisfied: scipy in /usr/local/lib/python3.7/dist-packages (from xgboost) (1.7.3)\n"
          ]
        }
      ]
    },
    {
      "cell_type": "code",
      "source": [
        "#import required libraries\n",
        "\n",
        "import seaborn as sns\n",
        "import numpy as np\n",
        "import pandas as pd\n",
        "import seaborn\n",
        "import matplotlib.pyplot as plt\n",
        "%matplotlib inline\n",
        "from xgboost import XGBClassifier\n",
        "from xgboost import plot_tree\n",
        "from xgboost import plot_importance\n",
        "from sklearn.feature_selection import SelectFromModel\n",
        "\n",
        "from sklearn.ensemble import GradientBoostingClassifier\n",
        "from sklearn.model_selection import GridSearchCV\n",
        "from sklearn.model_selection import train_test_split,KFold,cross_val_score\n",
        "from sklearn.model_selection import StratifiedKFold\n",
        "from sklearn.tree import DecisionTreeClassifier\n",
        "from sklearn.metrics import classification_report, confusion_matrix\n",
        "from sklearn.metrics import roc_auc_score,r2_score,roc_curve, auc,accuracy_score\n",
        "from sklearn.preprocessing import MinMaxScaler\n",
        "import itertools\n",
        "\n",
        "from sklearn import metrics"
      ],
      "metadata": {
        "id": "CWjW7ISB-O8s"
      },
      "execution_count": 41,
      "outputs": []
    },
    {
      "cell_type": "code",
      "execution_count": 5,
      "metadata": {
        "colab": {
          "base_uri": "https://localhost:8080/"
        },
        "id": "rror9ooAv2jU",
        "outputId": "e4fb22c5-a9ad-4784-9231-22c7ed46f4c6"
      },
      "outputs": [
        {
          "output_type": "stream",
          "name": "stdout",
          "text": [
            "   ID       RI     Na    Mg    Al     Si     K    Ca   Ba   Fe  Type\n",
            "0   1  1.52101  13.64  4.49  1.10  71.78  0.06  8.75  0.0  0.0     1\n",
            "1   2  1.51761  13.89  3.60  1.36  72.73  0.48  7.83  0.0  0.0     1\n",
            "2   3  1.51618  13.53  3.55  1.54  72.99  0.39  7.78  0.0  0.0     1\n",
            "3   4  1.51766  13.21  3.69  1.29  72.61  0.57  8.22  0.0  0.0     1\n",
            "4   5  1.51742  13.27  3.62  1.24  73.08  0.55  8.07  0.0  0.0     1\n"
          ]
        }
      ],
      "source": [
        "# Read data from github. Use raw format and copy url# Note normal url and raw url will be different.\n",
        "import pandas as pd\n",
        "pd.options.display.max_rows=None\n",
        "pd.options.display.max_columns=None\n",
        "url = 'https://raw.githubusercontent.com/PacktPublishing/Ensemble-Machine-Learning-Cookbook/master/Chapter07/glassdata.csv'\n",
        "df_glassdata= pd.read_csv(url)\n",
        "#df = pd.read_csv(url)\n",
        "print(df_glassdata.head(5))"
      ]
    },
    {
      "cell_type": "code",
      "source": [
        "#Check shape of data\n",
        "df_glassdata.shape"
      ],
      "metadata": {
        "colab": {
          "base_uri": "https://localhost:8080/"
        },
        "id": "V9gCg8741boR",
        "outputId": "3ef4b135-ab73-4b7e-9d79-675d140ab7e1"
      },
      "execution_count": 6,
      "outputs": [
        {
          "output_type": "execute_result",
          "data": {
            "text/plain": [
              "(214, 11)"
            ]
          },
          "metadata": {},
          "execution_count": 6
        }
      ]
    },
    {
      "cell_type": "code",
      "source": [
        "# Create feature and response variables\n",
        "X=df_glassdata.iloc[:,1:10]\n",
        "\n",
        "Y=df_glassdata.iloc[:,10]\n",
        "print(X.shape)\n",
        "print(Y.shape)\n"
      ],
      "metadata": {
        "id": "1YxyHEe749sY",
        "colab": {
          "base_uri": "https://localhost:8080/"
        },
        "outputId": "0f896a49-2966-422f-afb2-815c369fa542"
      },
      "execution_count": 8,
      "outputs": [
        {
          "output_type": "stream",
          "name": "stdout",
          "text": [
            "(214, 9)\n",
            "(214,)\n"
          ]
        }
      ]
    },
    {
      "cell_type": "code",
      "source": [
        "#Check missing values\n",
        "df_glassdata.isnull().sum()"
      ],
      "metadata": {
        "colab": {
          "base_uri": "https://localhost:8080/"
        },
        "id": "7KEEbG5K12Ac",
        "outputId": "f2e2ab92-b46a-4a12-c604-27c43dcf36c0"
      },
      "execution_count": 9,
      "outputs": [
        {
          "output_type": "execute_result",
          "data": {
            "text/plain": [
              "ID      0\n",
              "RI      0\n",
              "Na      0\n",
              "Mg      0\n",
              "Al      0\n",
              "Si      0\n",
              "K       0\n",
              "Ca      0\n",
              "Ba      0\n",
              "Fe      0\n",
              "Type    0\n",
              "dtype: int64"
            ]
          },
          "metadata": {},
          "execution_count": 9
        }
      ]
    },
    {
      "cell_type": "code",
      "source": [
        "#Split the data\n",
        "X_train, X_test, Y_train, Y_test=train_test_split(X, Y, test_size=0.3,random_state=0,stratify=Y)"
      ],
      "metadata": {
        "id": "mO3iJsxv19TW"
      },
      "execution_count": 10,
      "outputs": []
    },
    {
      "cell_type": "code",
      "source": [
        "# Build xgbmodel\n",
        "xg_model=XGBClassifier()\n",
        "xg_model.fit(X_train,Y_train)"
      ],
      "metadata": {
        "colab": {
          "base_uri": "https://localhost:8080/"
        },
        "id": "7nIInZ8JBgmy",
        "outputId": "4f1d7e73-a4fe-4c33-b446-6465d4fd7d96"
      },
      "execution_count": 13,
      "outputs": [
        {
          "output_type": "execute_result",
          "data": {
            "text/plain": [
              "XGBClassifier(objective='multi:softprob')"
            ]
          },
          "metadata": {},
          "execution_count": 13
        }
      ]
    },
    {
      "cell_type": "code",
      "source": [
        "#We can visualize a single XGBoost decision tree from our trained model. Visualizing decision trees can provide insight into the gradient boosting process:\n",
        "#The rankdir='LR' parameter plotted the tree from left to right. Setting rankdir to UT would plot a vertical tree. \n",
        "plot_tree(xg_model,num_trees=0,rankdir='LR')\n",
        "fig=pyplot.gcf()\n",
        "fig.set_size_inches(30,30)"
      ],
      "metadata": {
        "colab": {
          "base_uri": "https://localhost:8080/",
          "height": 319
        },
        "id": "VbMf4-ropSWk",
        "outputId": "34ea4497-148a-4c65-9da4-5af33c5117b4"
      },
      "execution_count": 14,
      "outputs": [
        {
          "output_type": "error",
          "ename": "NameError",
          "evalue": "ignored",
          "traceback": [
            "\u001b[0;31m---------------------------------------------------------------------------\u001b[0m",
            "\u001b[0;31mNameError\u001b[0m                                 Traceback (most recent call last)",
            "\u001b[0;32m<ipython-input-14-b24875342f84>\u001b[0m in \u001b[0;36m<module>\u001b[0;34m\u001b[0m\n\u001b[1;32m      2\u001b[0m \u001b[0;31m#The rankdir='LR' parameter plotted the tree from left to right. Setting rankdir to UT would plot a vertical tree.\u001b[0m\u001b[0;34m\u001b[0m\u001b[0;34m\u001b[0m\u001b[0;34m\u001b[0m\u001b[0m\n\u001b[1;32m      3\u001b[0m \u001b[0mplot_tree\u001b[0m\u001b[0;34m(\u001b[0m\u001b[0mxg_model\u001b[0m\u001b[0;34m,\u001b[0m\u001b[0mnum_trees\u001b[0m\u001b[0;34m=\u001b[0m\u001b[0;36m0\u001b[0m\u001b[0;34m,\u001b[0m\u001b[0mrankdir\u001b[0m\u001b[0;34m=\u001b[0m\u001b[0;34m'LR'\u001b[0m\u001b[0;34m)\u001b[0m\u001b[0;34m\u001b[0m\u001b[0;34m\u001b[0m\u001b[0m\n\u001b[0;32m----> 4\u001b[0;31m \u001b[0mfig\u001b[0m\u001b[0;34m=\u001b[0m\u001b[0mpyplot\u001b[0m\u001b[0;34m.\u001b[0m\u001b[0mgcf\u001b[0m\u001b[0;34m(\u001b[0m\u001b[0;34m)\u001b[0m\u001b[0;34m\u001b[0m\u001b[0;34m\u001b[0m\u001b[0m\n\u001b[0m\u001b[1;32m      5\u001b[0m \u001b[0mfig\u001b[0m\u001b[0;34m.\u001b[0m\u001b[0mset_size_inches\u001b[0m\u001b[0;34m(\u001b[0m\u001b[0;36m30\u001b[0m\u001b[0;34m,\u001b[0m\u001b[0;36m30\u001b[0m\u001b[0;34m)\u001b[0m\u001b[0;34m\u001b[0m\u001b[0;34m\u001b[0m\u001b[0m\n",
            "\u001b[0;31mNameError\u001b[0m: name 'pyplot' is not defined"
          ]
        },
        {
          "output_type": "display_data",
          "data": {
            "text/plain": [
              "<Figure size 432x288 with 1 Axes>"
            ],
            "image/png": "[encoded data removed]"
          },
          "metadata": {
            "needs_background": "light"
          }
        }
      ]
    },
    {
      "cell_type": "code",
      "source": [
        "#With num_trees=0, we get the first boosted tree. We can view the other boosted trees by setting the index value to the num_trees parameter.\n",
        "#We set num_trees=5\n",
        "plot_tree(xg_model,num_trees=5,rankdir='LR')\n",
        "fig=plot.gcf()\n",
        "fig.set_size_inches(30,30)\n"
      ],
      "metadata": {
        "colab": {
          "base_uri": "https://localhost:8080/",
          "height": 284
        },
        "id": "FHSoms4F2oZL",
        "outputId": "09fe2e1d-bb91-4120-8619-1fbbd4afcc6a"
      },
      "execution_count": 15,
      "outputs": [
        {
          "output_type": "error",
          "ename": "NameError",
          "evalue": "ignored",
          "traceback": [
            "\u001b[0;31m---------------------------------------------------------------------------\u001b[0m",
            "\u001b[0;31mNameError\u001b[0m                                 Traceback (most recent call last)",
            "\u001b[0;32m<ipython-input-15-2b9f38405855>\u001b[0m in \u001b[0;36m<module>\u001b[0;34m\u001b[0m\n\u001b[1;32m      2\u001b[0m \u001b[0;31m#We set num_trees=5\u001b[0m\u001b[0;34m\u001b[0m\u001b[0;34m\u001b[0m\u001b[0;34m\u001b[0m\u001b[0m\n\u001b[1;32m      3\u001b[0m \u001b[0mplot_tree\u001b[0m\u001b[0;34m(\u001b[0m\u001b[0mxg_model\u001b[0m\u001b[0;34m,\u001b[0m\u001b[0mnum_trees\u001b[0m\u001b[0;34m=\u001b[0m\u001b[0;36m5\u001b[0m\u001b[0;34m,\u001b[0m\u001b[0mrankdir\u001b[0m\u001b[0;34m=\u001b[0m\u001b[0;34m'LR'\u001b[0m\u001b[0;34m)\u001b[0m\u001b[0;34m\u001b[0m\u001b[0;34m\u001b[0m\u001b[0m\n\u001b[0;32m----> 4\u001b[0;31m \u001b[0mfig\u001b[0m\u001b[0;34m=\u001b[0m\u001b[0mplot\u001b[0m\u001b[0;34m.\u001b[0m\u001b[0mgcf\u001b[0m\u001b[0;34m(\u001b[0m\u001b[0;34m)\u001b[0m\u001b[0;34m\u001b[0m\u001b[0;34m\u001b[0m\u001b[0m\n\u001b[0m\u001b[1;32m      5\u001b[0m \u001b[0mfig\u001b[0m\u001b[0;34m.\u001b[0m\u001b[0mset_size_inches\u001b[0m\u001b[0;34m(\u001b[0m\u001b[0;36m30\u001b[0m\u001b[0;34m,\u001b[0m\u001b[0;36m30\u001b[0m\u001b[0;34m)\u001b[0m\u001b[0;34m\u001b[0m\u001b[0;34m\u001b[0m\u001b[0m\n",
            "\u001b[0;31mNameError\u001b[0m: name 'plot' is not defined"
          ]
        },
        {
          "output_type": "display_data",
          "data": {
            "text/plain": [
              "<Figure size 432x288 with 1 Axes>"
            ],
            "image/png": "[encoded data removed]"
          },
          "metadata": {
            "needs_background": "light"
          }
        }
      ]
    },
    {
      "cell_type": "code",
      "source": [
        "#We will now use predict() on our test data to get the predicted values. We can see our test accuracy with accuracy_score()\n",
        "test_predictions=xg_model.predict(X_test)\n",
        "test_accuracy=accuracy_score(Y_test,test_predictions)\n",
        "\n",
        "print(\"Test accuracy : %0.2f%%\" % (test_accuracy*100.0))"
      ],
      "metadata": {
        "id": "D3nK88XwpwMu",
        "colab": {
          "base_uri": "https://localhost:8080/"
        },
        "outputId": "8bbc6bfc-7a8f-49d3-a003-b9e097a2672b"
      },
      "execution_count": 18,
      "outputs": [
        {
          "output_type": "stream",
          "name": "stdout",
          "text": [
            "Test accuracy : 83.08%\n"
          ]
        }
      ]
    },
    {
      "cell_type": "code",
      "source": [
        "#We can see our confusion matrix \n",
        "confusion_matrix(Y_test,test_predictions)"
      ],
      "metadata": {
        "id": "ehAxElnw75Q0",
        "colab": {
          "base_uri": "https://localhost:8080/"
        },
        "outputId": "9f1d6ed9-6f6f-4b9a-9d27-598c16d36e80"
      },
      "execution_count": 19,
      "outputs": [
        {
          "output_type": "execute_result",
          "data": {
            "text/plain": [
              "array([[19,  2,  0,  0,  0,  0],\n",
              "       [ 1, 21,  0,  0,  0,  1],\n",
              "       [ 4,  0,  1,  0,  0,  0],\n",
              "       [ 0,  0,  0,  3,  0,  1],\n",
              "       [ 0,  1,  0,  0,  1,  1],\n",
              "       [ 0,  0,  0,  0,  0,  9]])"
            ]
          },
          "metadata": {},
          "execution_count": 19
        }
      ]
    },
    {
      "cell_type": "code",
      "source": [
        "#We can then use a predefined function, plot_confusion_matrix(), which we have sourced from https://scikit-learn.org:\n",
        "\n",
        "def plot_confusion_matrix(cm, classes,\n",
        "                          normalize=False,\n",
        "                          title='Confusion matrix',\n",
        "                          cmap=plt.cm.Blues):\n",
        "    plt.imshow(cm, interpolation='nearest', cmap=cmap)\n",
        "    plt.title(title)\n",
        "    plt.colorbar()\n",
        "    tick_marks = np.arange(len(classes))\n",
        "    plt.xticks(tick_marks, classes, rotation=45)\n",
        "    plt.yticks(tick_marks, classes)\n",
        "\n",
        "    fmt = '.2f' if normalize else 'd'\n",
        "    thresh = cm.max() / 2.\n",
        "    for i, j in itertools.product(range(cm.shape[0]), range(cm.shape[1])):\n",
        "        plt.text(j, i, format(cm[i, j], fmt),\n",
        "                 horizontalalignment=\"center\",\n",
        "                 color=\"white\" if cm[i, j] > thresh else \"black\")\n",
        "\n",
        "    plt.ylabel('True label')\n",
        "    plt.xlabel('Predicted label')\n",
        "    plt.tight_layout()\n"
      ],
      "metadata": {
        "id": "whoPl2DZ3nrH"
      },
      "execution_count": 20,
      "outputs": []
    },
    {
      "cell_type": "code",
      "source": [
        "#We then look at the unique values of our target variable to set the names of each level of our target variable\n",
        "Y.unique()"
      ],
      "metadata": {
        "colab": {
          "base_uri": "https://localhost:8080/"
        },
        "id": "qfgiFSip3w-y",
        "outputId": "720d8cfb-11e1-4e4e-945c-055060da90b5"
      },
      "execution_count": 21,
      "outputs": [
        {
          "output_type": "execute_result",
          "data": {
            "text/plain": [
              "array([1, 2, 3, 5, 6, 7])"
            ]
          },
          "metadata": {},
          "execution_count": 21
        }
      ]
    },
    {
      "cell_type": "code",
      "source": [
        "#set the names to each level of our target variable\n",
        "target_names=['1','2','3','4','5','7']\n",
        "cm=confusion_matrix(Y_test,test_predictions)\n",
        "plt.figure()\n",
        "plot_confusion_matrix(cm,classes=target_names)\n",
        "plt.show()"
      ],
      "metadata": {
        "colab": {
          "base_uri": "https://localhost:8080/",
          "height": 297
        },
        "id": "Uz2n5CcD35Zx",
        "outputId": "03b25c0e-2516-401e-efae-547671357291"
      },
      "execution_count": 22,
      "outputs": [
        {
          "output_type": "display_data",
          "data": {
            "text/plain": [
              "<Figure size 432x288 with 2 Axes>"
            ],
            "image/png": "[encoded data removed]"
          },
          "metadata": {
            "needs_background": "light"
          }
        }
      ]
    },
    {
      "cell_type": "code",
      "source": [
        "#Check feature importance\n",
        "print(xg_model.feature_importances_)"
      ],
      "metadata": {
        "colab": {
          "base_uri": "https://localhost:8080/"
        },
        "id": "4PV3dV2b49_F",
        "outputId": "87ad763b-0e32-432e-b128-0cfe2a02874d"
      },
      "execution_count": 23,
      "outputs": [
        {
          "output_type": "stream",
          "name": "stdout",
          "text": [
            "[0.05109863 0.06202332 0.07122978 0.04586057 0.02999706 0.04635512\n",
            " 0.0396499  0.61077917 0.04300657]\n"
          ]
        }
      ]
    },
    {
      "cell_type": "code",
      "source": [
        "#We can also visualize feature importance using plot_importance()\n",
        "plot_importance(xg_model)"
      ],
      "metadata": {
        "colab": {
          "base_uri": "https://localhost:8080/",
          "height": 312
        },
        "id": "vRylqId65HMi",
        "outputId": "654d49ba-9658-4abc-df01-b3651c82f5c1"
      },
      "execution_count": 24,
      "outputs": [
        {
          "output_type": "execute_result",
          "data": {
            "text/plain": [
              "<matplotlib.axes._subplots.AxesSubplot at 0x7f40b9203ed0>"
            ]
          },
          "metadata": {},
          "execution_count": 24
        },
        {
          "output_type": "display_data",
          "data": {
            "text/plain": [
              "<Figure size 432x288 with 1 Axes>"
            ],
            "image/png": "[encoded data removed]"
          },
          "metadata": {
            "needs_background": "light"
          }
        }
      ]
    },
    {
      "cell_type": "markdown",
      "source": [
        "Feature importance can be used for feature selection using SelectFromModel.\n",
        "\n",
        "The SelectFromModel class is imported from sklearn.feature_selection.\n",
        "In the following example, the SelectFromModel takes the pretrained XGBoost model and provides a subset from our dataset with the selected features. It decides on the selected features based on a threshold value. \n",
        "\n",
        "Features that have an importance that is greater than or equal to the threshold value are kept, while any others are discarded"
      ],
      "metadata": {
        "id": "uNsGPln55Ujl"
      }
    },
    {
      "cell_type": "code",
      "source": [
        "# The threshold value to use for feature selection. \n",
        "import pandas as pd\n",
        "from sklearn.feature_selection import SelectFromModel\n",
        "feature_importance=xg_model.feature_importances_\n",
        "\n",
        "#Select features using threshold\n",
        "for each_threshold in feature_importance:\n",
        "  selection=SelectFromModel(xg_model,threshold=each_threshold,prefit=True)\n",
        "  #reduce x_train only to the selected features\n",
        "  selected_feature_x_train=selection.transform(X_train)\n",
        "\n",
        "  #Train the model\n",
        "  selection_model=XGBClassifier()\n",
        "  selection_model.fit(selected_feature_x_train,Y_train)\n",
        "\n",
        "  # Reduce Xtrain only to the selected featues\n",
        "  selected_feature_x_test=selection.transform(X_test)\n",
        "\n",
        "  #Predict using the test value of the set\n",
        "  predictions=selection_model.predict(selected_feature_x_test)\n",
        "  accuracy=accuracy_score(Y_test,predictions)\n",
        "  print(\"Threshold=%.5f, Number of Features=%d, Model Accuracy: %.2f%%\" % (each_threshold, selected_feature_x_train.shape[1],accuracy*100))"
      ],
      "metadata": {
        "colab": {
          "base_uri": "https://localhost:8080/"
        },
        "id": "VbjlCFM05WRV",
        "outputId": "8a01cf4d-9349-4c92-ccae-cb2cebaf5744"
      },
      "execution_count": 36,
      "outputs": [
        {
          "output_type": "stream",
          "name": "stderr",
          "text": [
            "/usr/local/lib/python3.7/dist-packages/sklearn/base.py:444: UserWarning: X has feature names, but SelectFromModel was fitted without feature names\n",
            "  f\"X has feature names, but {self.__class__.__name__} was fitted without\"\n",
            "/usr/local/lib/python3.7/dist-packages/sklearn/base.py:444: UserWarning: X has feature names, but SelectFromModel was fitted without feature names\n",
            "  f\"X has feature names, but {self.__class__.__name__} was fitted without\"\n",
            "/usr/local/lib/python3.7/dist-packages/sklearn/base.py:444: UserWarning: X has feature names, but SelectFromModel was fitted without feature names\n",
            "  f\"X has feature names, but {self.__class__.__name__} was fitted without\"\n",
            "/usr/local/lib/python3.7/dist-packages/sklearn/base.py:444: UserWarning: X has feature names, but SelectFromModel was fitted without feature names\n",
            "  f\"X has feature names, but {self.__class__.__name__} was fitted without\"\n",
            "/usr/local/lib/python3.7/dist-packages/sklearn/base.py:444: UserWarning: X has feature names, but SelectFromModel was fitted without feature names\n",
            "  f\"X has feature names, but {self.__class__.__name__} was fitted without\"\n",
            "/usr/local/lib/python3.7/dist-packages/sklearn/base.py:444: UserWarning: X has feature names, but SelectFromModel was fitted without feature names\n",
            "  f\"X has feature names, but {self.__class__.__name__} was fitted without\"\n"
          ]
        },
        {
          "output_type": "stream",
          "name": "stdout",
          "text": [
            "Threshold=0.05110, Number of Features=4, Model Accuracy: 75.38%\n",
            "Threshold=0.06202, Number of Features=3, Model Accuracy: 53.85%\n",
            "Threshold=0.07123, Number of Features=2, Model Accuracy: 46.15%\n"
          ]
        },
        {
          "output_type": "stream",
          "name": "stderr",
          "text": [
            "/usr/local/lib/python3.7/dist-packages/sklearn/base.py:444: UserWarning: X has feature names, but SelectFromModel was fitted without feature names\n",
            "  f\"X has feature names, but {self.__class__.__name__} was fitted without\"\n",
            "/usr/local/lib/python3.7/dist-packages/sklearn/base.py:444: UserWarning: X has feature names, but SelectFromModel was fitted without feature names\n",
            "  f\"X has feature names, but {self.__class__.__name__} was fitted without\"\n",
            "/usr/local/lib/python3.7/dist-packages/sklearn/base.py:444: UserWarning: X has feature names, but SelectFromModel was fitted without feature names\n",
            "  f\"X has feature names, but {self.__class__.__name__} was fitted without\"\n",
            "/usr/local/lib/python3.7/dist-packages/sklearn/base.py:444: UserWarning: X has feature names, but SelectFromModel was fitted without feature names\n",
            "  f\"X has feature names, but {self.__class__.__name__} was fitted without\"\n",
            "/usr/local/lib/python3.7/dist-packages/sklearn/base.py:444: UserWarning: X has feature names, but SelectFromModel was fitted without feature names\n",
            "  f\"X has feature names, but {self.__class__.__name__} was fitted without\"\n"
          ]
        },
        {
          "output_type": "stream",
          "name": "stdout",
          "text": [
            "Threshold=0.04586, Number of Features=6, Model Accuracy: 76.92%\n",
            "Threshold=0.03000, Number of Features=9, Model Accuracy: 83.08%\n",
            "Threshold=0.04636, Number of Features=5, Model Accuracy: 84.62%\n"
          ]
        },
        {
          "output_type": "stream",
          "name": "stderr",
          "text": [
            "/usr/local/lib/python3.7/dist-packages/sklearn/base.py:444: UserWarning: X has feature names, but SelectFromModel was fitted without feature names\n",
            "  f\"X has feature names, but {self.__class__.__name__} was fitted without\"\n",
            "/usr/local/lib/python3.7/dist-packages/sklearn/base.py:444: UserWarning: X has feature names, but SelectFromModel was fitted without feature names\n",
            "  f\"X has feature names, but {self.__class__.__name__} was fitted without\"\n",
            "/usr/local/lib/python3.7/dist-packages/sklearn/base.py:444: UserWarning: X has feature names, but SelectFromModel was fitted without feature names\n",
            "  f\"X has feature names, but {self.__class__.__name__} was fitted without\"\n",
            "/usr/local/lib/python3.7/dist-packages/sklearn/base.py:444: UserWarning: X has feature names, but SelectFromModel was fitted without feature names\n",
            "  f\"X has feature names, but {self.__class__.__name__} was fitted without\"\n",
            "/usr/local/lib/python3.7/dist-packages/sklearn/base.py:444: UserWarning: X has feature names, but SelectFromModel was fitted without feature names\n",
            "  f\"X has feature names, but {self.__class__.__name__} was fitted without\"\n",
            "/usr/local/lib/python3.7/dist-packages/sklearn/base.py:444: UserWarning: X has feature names, but SelectFromModel was fitted without feature names\n",
            "  f\"X has feature names, but {self.__class__.__name__} was fitted without\"\n"
          ]
        },
        {
          "output_type": "stream",
          "name": "stdout",
          "text": [
            "Threshold=0.03965, Number of Features=8, Model Accuracy: 80.00%\n",
            "Threshold=0.61078, Number of Features=1, Model Accuracy: 47.69%\n",
            "Threshold=0.04301, Number of Features=7, Model Accuracy: 76.92%\n"
          ]
        },
        {
          "output_type": "stream",
          "name": "stderr",
          "text": [
            "/usr/local/lib/python3.7/dist-packages/sklearn/base.py:444: UserWarning: X has feature names, but SelectFromModel was fitted without feature names\n",
            "  f\"X has feature names, but {self.__class__.__name__} was fitted without\"\n"
          ]
        }
      ]
    },
    {
      "cell_type": "markdown",
      "source": [
        "We notice that the performance of the model fluctuates with the number of selected features. Based on the preceding output, we decide to opt for five features that give us an accuracy value of 72%. Also, if we use the Occam's razor principle, we can probably opt for a simpler model with four features that gives us a slightly lower accuracy of 71%.\n",
        "We can also evaluate our models using cross-validation. To perform k-fold cross-validation"
      ],
      "metadata": {
        "id": "rVOUVrjV7OsI"
      }
    },
    {
      "cell_type": "code",
      "source": [
        "kfold=KFold(n_splits=40)\n",
        "xg_model_with_kfold=XGBClassifier()\n",
        "cv_results=cross_val_score(xg_model_with_kfold,X_train,Y_train,cv=kfold,verbose=True)\n",
        "print(\"Mean Accuracy: %.2f%% Standard Deviation %.2f%%\" % (cv_results.mean()*100, cv_results.std()*100))"
      ],
      "metadata": {
        "colab": {
          "base_uri": "https://localhost:8080/"
        },
        "id": "NeigHVNJ7QQQ",
        "outputId": "5874dc56-aff7-4d5a-bd24-5fea6fec8d88"
      },
      "execution_count": 39,
      "outputs": [
        {
          "output_type": "stream",
          "name": "stderr",
          "text": [
            "[Parallel(n_jobs=1)]: Using backend SequentialBackend with 1 concurrent workers.\n"
          ]
        },
        {
          "output_type": "stream",
          "name": "stdout",
          "text": [
            "Mean Accuracy: 68.75% Standard Deviation 22.95%\n"
          ]
        },
        {
          "output_type": "stream",
          "name": "stderr",
          "text": [
            "[Parallel(n_jobs=1)]: Done  40 out of  40 | elapsed:    2.8s finished\n"
          ]
        }
      ]
    },
    {
      "cell_type": "markdown",
      "source": [
        "With cross_val_score(), we evaluate our model, which gives us the mean and standard deviation classification accuracy. We notice that we get a mean accuracy of 77.92% and a standard deviation of 22.33%\n",
        "In our case, we have a target variable with six classes.\n",
        "\n",
        "If you have many classes for a multi-class classification task, you may use stratified folds when performing cross-validation"
      ],
      "metadata": {
        "id": "fTh_edao7xHc"
      }
    },
    {
      "cell_type": "code",
      "source": [
        "Stratfold=StratifiedKFold(n_splits=40)\n",
        "xg_model_with_stratfold=XGBClassifier()\n",
        "sf_results=cross_val_score(xg_model_with_stratfold,X_train,Y_train,cv=Stratfold,verbose=True)\n",
        "print(\"Mean Accuracy: %.2f%% Standard Deviation %.2f%%\" % (sf_results.mean()*100, sf_results.std()*100))"
      ],
      "metadata": {
        "colab": {
          "base_uri": "https://localhost:8080/"
        },
        "id": "qyIjK2Ca71Uq",
        "outputId": "35245ca0-bc10-46a7-a7cb-336c62ef6335"
      },
      "execution_count": 43,
      "outputs": [
        {
          "output_type": "stream",
          "name": "stderr",
          "text": [
            "[Parallel(n_jobs=1)]: Using backend SequentialBackend with 1 concurrent workers.\n",
            "/usr/local/lib/python3.7/dist-packages/sklearn/model_selection/_split.py:680: UserWarning: The least populated class in y has only 6 members, which is less than n_splits=40.\n",
            "  UserWarning,\n"
          ]
        },
        {
          "output_type": "stream",
          "name": "stdout",
          "text": [
            "Mean Accuracy: 68.12% Standard Deviation 22.74%\n"
          ]
        },
        {
          "output_type": "stream",
          "name": "stderr",
          "text": [
            "[Parallel(n_jobs=1)]: Done  40 out of  40 | elapsed:    2.0s finished\n"
          ]
        }
      ]
    }
  ]
}